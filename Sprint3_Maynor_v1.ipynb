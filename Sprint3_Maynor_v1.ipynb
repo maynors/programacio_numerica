{
 "cells": [
  {
   "cell_type": "markdown",
   "id": "2ea7a7b1",
   "metadata": {},
   "source": [
    "# Exercici 1\n",
    "Crea una funció que donat un Array d’una dimensió, et faci un resum estadístic bàsic de les dades. Si detecta que l’array té més d’una dimensió, ha de mostrar un missatge d’error"
   ]
  },
  {
   "cell_type": "code",
   "execution_count": 2,
   "id": "b435f362",
   "metadata": {},
   "outputs": [],
   "source": [
    "import numpy as np\n",
    "from numpy import random as rd"
   ]
  },
  {
   "cell_type": "code",
   "execution_count": 2,
   "id": "772f1750",
   "metadata": {},
   "outputs": [
    {
     "name": "stdout",
     "output_type": "stream",
     "text": [
      "\u001b[1mRESUMEN ESTADÍSTICO BÁSICO DE LOS DATOS\u001b[0m\n",
      "La media es:  52.2\n",
      "La mediana es 52.5\n",
      "La desviación estandar:  27.31\n",
      "La varianza es:  745.6600000000001\n",
      "El rango es:  91\n",
      "El valor mínimo es:  8\n",
      "El valor máximo es:  99\n"
     ]
    }
   ],
   "source": [
    "#Creación de array random con valores hasta el 100\n",
    "array_random=rd.randint(100,size=(20))\n",
    "array_random\n",
    "\n",
    "#Función\n",
    "\n",
    "def resumen_estadistico(x):\n",
    "    print('\\033[1m' + 'RESUMEN ESTADÍSTICO BÁSICO DE LOS DATOS'+ '\\033[0m')\n",
    "    print('La media es: ',np.mean(x))\n",
    "    print('La mediana es',np.median(x))\n",
    "    print('La desviación estandar: ',round(np.std(x),2))\n",
    "    print('La varianza es: ', np.var(x))\n",
    "    print('El rango es: ', np.ptp(x))\n",
    "    print('El valor mínimo es: ', np.amin(x))\n",
    "    print('El valor máximo es: ', np.amax(x))\n",
    "\n",
    "#Condicional y programa\n",
    "\n",
    "if type(array_random) != np.ndarray:\n",
    "    print('El objeto debe ser de tipo array')\n",
    "elif array_random.ndim != 1 :\n",
    "    print('El array debe ser de 1 dimensión')\n",
    "else :\n",
    "    resumen_estadistico(array_random)\n",
    "    \n",
    "    \n"
   ]
  },
  {
   "cell_type": "markdown",
   "id": "c4d4e21f",
   "metadata": {},
   "source": [
    "# Exercici 2\n",
    "Crea una funció que et generi un quadrat NxN de nombres aleatoris entre el 0 i el 100.\n"
   ]
  },
  {
   "cell_type": "code",
   "execution_count": 23,
   "id": "e5988c69",
   "metadata": {},
   "outputs": [
    {
     "name": "stdout",
     "output_type": "stream",
     "text": [
      "Ingrese un numero del 0 al 20 5\n",
      "[[37  3 60 22 65]\n",
      " [27 60 53 93 97]\n",
      " [88 54 81 30 87]\n",
      " [34 24 52 30 16]\n",
      " [86 86 99  8 38]]\n"
     ]
    }
   ],
   "source": [
    "def  array_cuadrado(x):\n",
    "    array_NxN=rd.randint(101,size=(x,x))\n",
    "    print(array_NxN)\n",
    "    \n",
    "while True:\n",
    "    numero=input('Ingrese un numero del 0 al 20 ')\n",
    "    try:\n",
    "        numero= int(numero)\n",
    "        if numero < 0 or numero > 20:\n",
    "            print('El valor del número debe ser entre 0 y 10')\n",
    "        else : \n",
    "            array_cuadrado(numero)\n",
    "            break;\n",
    "    except ValueError:\n",
    "        print('\\033[1m' + 'Este no es numero' + '\\033[0m')\n",
    "            \n",
    "        \n"
   ]
  },
  {
   "cell_type": "markdown",
   "id": "2d7d32b0",
   "metadata": {},
   "source": [
    "# Exercici 3\n",
    "Crea una funció que donada una taula de dues dimensions (NxM), et calculi els totals per fila i els totals per columna."
   ]
  },
  {
   "cell_type": "code",
   "execution_count": 18,
   "id": "88fdb17a",
   "metadata": {},
   "outputs": [
    {
     "name": "stdout",
     "output_type": "stream",
     "text": [
      "Ingrese el número de filas para la tabla 5\n",
      "Ingrese el número de columnas para la tabla 4\n",
      "Ingrese el valor máximo que desee que tengan los valores de la tabla 8\n",
      "***************************************************************\n",
      "La siguiente tabla es de 5x4 dimensiones\n",
      "[[3 1 5 0]\n",
      " [3 1 2 5]\n",
      " [7 5 6 1]\n",
      " [0 7 7 6]\n",
      " [4 3 6 6]]\n",
      "***************************************************************\n",
      "La suma de sus columnas es: \n",
      "[17 17 26 18]\n",
      "***************************************************************\n",
      "La suma de sus filas es: \n",
      "***************************************************************\n",
      "[ 9 11 19 20 19]\n"
     ]
    }
   ],
   "source": [
    "#Función para verificar si un numero es mayor que 0 y si es de tipo Númerico.\n",
    "def verificar_numero(num):\n",
    "    esValorInvalido=True    \n",
    "    while esValorInvalido :\n",
    "        try:\n",
    "            num= int(num)\n",
    "            if num <= 0:\n",
    "                print('El valor del número debe ser mayor a 0')\n",
    "                return esValorInvalido\n",
    "            else : \n",
    "                esValorInvalido = False\n",
    "                return esValorInvalido\n",
    "                \n",
    "        except ValueError:\n",
    "            print('\\033[1m' + 'Este no es numero' + '\\033[0m')\n",
    "            return esValorInvalido\n",
    "            \n",
    "#Función para crear la tabla        \n",
    "def array_NxM(x,y,z):\n",
    "    arrayNxM = rd.randint(z,size=(x,y))\n",
    "    print('***************************************************************')\n",
    "    print('La siguiente tabla es de '+str(x)+'x'+str(y)+' dimensiones')\n",
    "    print(arrayNxM)\n",
    "    print('***************************************************************')\n",
    "    print('La suma de sus columnas es: ')\n",
    "    print(np.sum(arrayNxM,axis=0))\n",
    "    print('***************************************************************')\n",
    "    print('La suma de sus filas es: ')\n",
    "    print('***************************************************************')\n",
    "    print(np.sum(arrayNxM,axis=1))\n",
    "\n",
    "#INGRESO DE DATOS\n",
    "\n",
    "filas=input('Ingrese el número de filas para la tabla ')\n",
    "\n",
    "while verificar_numero(filas) :\n",
    "        filas=input('Ingrese el número de filas para la tabla ')\n",
    "    \n",
    "columnas=input('Ingrese el número de columnas para la tabla ')\n",
    "\n",
    "while verificar_numero(columnas) :\n",
    "        columnas=input('Ingrese el número de columnas para la tabla ')\n",
    "    \n",
    "valorMaximo=input('Ingrese el valor máximo que desee que tengan los valores de la tabla ')\n",
    "\n",
    "while verificar_numero(valorMaximo) :\n",
    "        valorMaximo=input('Ingrese el valor máximo que desee que tengan los valores de la tabla ')     \n",
    "        \n",
    "        \n",
    "array_NxM(int(filas),int(columnas),int(valorMaximo))\n",
    "\n",
    "\n",
    "    \n",
    "\n",
    "    "
   ]
  },
  {
   "cell_type": "markdown",
   "id": "1d30f222",
   "metadata": {},
   "source": [
    "# Exercici 4\n",
    "Implementa manualment una funció que calculi el coeficient de correlació. Informa-te'n sobre els seus usos i interpretació."
   ]
  },
  {
   "attachments": {
    "image-2.png": {
     "image/png": "[encoded data removed]"
    }
   },
   "cell_type": "markdown",
   "id": "9cba4e0e",
   "metadata": {},
   "source": [
    "Una formula para encontrar el valor del coeficiente de correlacion de pearson es dividir:  \n",
    "En el numerador: Covarianza   \n",
    "Denominador: multiplicación de la desviación típica de cada conjunto de valores.  \n",
    "El valor del coeficiente esta limiado a [-1,1]. Siendo 1 o -1 la máxima relación entre las dos variables y el signo indica que tipo de relación tienen. Por ejemplo, si es positivo indica que a mayor valor de una variable la otra también aumentara. Por el contrario, si el coeficiente es Negativo, a mayor valor de una variable la otra disminuira. \n",
    "\n",
    "![image-2.png](attachment:image-2.png)"
   ]
  },
  {
   "cell_type": "code",
   "execution_count": 5,
   "id": "9d39fa3e",
   "metadata": {},
   "outputs": [
    {
     "name": "stdout",
     "output_type": "stream",
     "text": [
      "[26 77 87  9 17 18 86  3  6 62]\n",
      "[230 804 334 731 459 792 264 221 260 766]\n"
     ]
    }
   ],
   "source": [
    "#Se crean dos arrays aleatorios de tamaño 10 cada uno y avlos maximos de 88 y 888\n",
    "arrayX = rd.randint(88,size=(10))\n",
    "arrayY = rd.randint(888,size=(10))\n",
    "print(arrayX)\n",
    "print(arrayY)"
   ]
  },
  {
   "cell_type": "code",
   "execution_count": 7,
   "id": "6d4f80c0",
   "metadata": {},
   "outputs": [
    {
     "name": "stdout",
     "output_type": "stream",
     "text": [
      "39.1\n",
      "486.1\n"
     ]
    }
   ],
   "source": [
    "#Encontramos las medias\n",
    "arrayX_mean=np.mean(arrayX)\n",
    "arrayY_mean=np.mean(arrayY)\n",
    "print(arrayX_mean)\n",
    "print(arrayY_mean)"
   ]
  },
  {
   "cell_type": "code",
   "execution_count": 10,
   "id": "35305c3f",
   "metadata": {},
   "outputs": [
    {
     "name": "stdout",
     "output_type": "stream",
     "text": [
      "793.7899999999972\n"
     ]
    }
   ],
   "source": [
    "#Se encuentra la covarianza\n",
    "arrayXY_mean= np.mean(arrayX*arrayY)            #Se encuentra la media de la multiplicacion del array X * array Y\n",
    "multiplicacion_medias= arrayX_mean*arrayY_mean  #Se multiplican las medias\n",
    "covarianza= arrayXY_mean-multiplicacion_medias\n",
    "print(covarianza)"
   ]
  },
  {
   "cell_type": "code",
   "execution_count": 16,
   "id": "a0e08b1e",
   "metadata": {},
   "outputs": [
    {
     "name": "stdout",
     "output_type": "stream",
     "text": [
      "32.96194775798299\n",
      "243.5444312646051\n"
     ]
    }
   ],
   "source": [
    "#Se encuentra la desviacion típica de forma manual\n",
    "desv_arrayX= np.sqrt(np.mean(arrayX*arrayX)-arrayX_mean*arrayX_mean) #desviacion típica array X\n",
    "desv_arrayY= np.sqrt(np.mean(arrayY*arrayY)-arrayY_mean*arrayY_mean) #desviacion típica array Y\n",
    "print(desv_arrayX)\n",
    "print(desv_arrayY)"
   ]
  },
  {
   "cell_type": "code",
   "execution_count": 27,
   "id": "a910e69d",
   "metadata": {},
   "outputs": [
    {
     "name": "stdout",
     "output_type": "stream",
     "text": [
      "El coficiente de correlación de pearson es de:  0.098881\n"
     ]
    }
   ],
   "source": [
    "# Coefienciente de correlacion\n",
    "Coef_Pearson= covarianza / (desv_arrayX*desv_arrayY)\n",
    "print('El coficiente de correlación de pearson es de: ', str(round(Coef_Pearson,6)))"
   ]
  },
  {
   "cell_type": "code",
   "execution_count": 21,
   "id": "2a9eadf2",
   "metadata": {},
   "outputs": [
    {
     "data": {
      "text/plain": [
       "array([[1.        , 0.09888139],\n",
       "       [0.09888139, 1.        ]])"
      ]
     },
     "execution_count": 21,
     "metadata": {},
     "output_type": "execute_result"
    }
   ],
   "source": [
    "#Comprabamos la respuesta con la función que tiene Numpy para calcular el coefienciente de Pearson\n",
    "np.corrcoef(arrayX,arrayY)"
   ]
  },
  {
   "cell_type": "markdown",
   "id": "ae62110c",
   "metadata": {},
   "source": [
    "El resultado ha sido de 0.09888, indica una baja correlación lo cual de era esperado al crear los dos Array de forma  aleatoria. "
   ]
  },
  {
   "cell_type": "code",
   "execution_count": null,
   "id": "6f9a147b",
   "metadata": {},
   "outputs": [],
   "source": []
  }
 ],
 "metadata": {
  "kernelspec": {
   "display_name": "Python 3 (ipykernel)",
   "language": "python",
   "name": "python3"
  },
  "language_info": {
   "codemirror_mode": {
    "name": "ipython",
    "version": 3
   },
   "file_extension": ".py",
   "mimetype": "text/x-python",
   "name": "python",
   "nbconvert_exporter": "python",
   "pygments_lexer": "ipython3",
   "version": "3.9.13"
  }
 },
 "nbformat": 4,
 "nbformat_minor": 5
}
