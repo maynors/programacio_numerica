{
 "cells": [
  {
   "cell_type": "markdown",
   "id": "2ea7a7b1",
   "metadata": {
    "id": "2ea7a7b1"
   },
   "source": [
    "# Exercici 1\n",
    "Crea una funció que donat un Array d’una dimensió, et faci un resum estadístic bàsic de les dades. Si detecta que l’array té més d’una dimensió, ha de mostrar un missatge d’error"
   ]
  },
  {
   "cell_type": "code",
   "execution_count": 1,
   "id": "b435f362",
   "metadata": {
    "id": "b435f362"
   },
   "outputs": [],
   "source": [
    "import numpy as np\n",
    "from numpy import random as rd"
   ]
  },
  {
   "cell_type": "code",
   "execution_count": 2,
   "id": "6wH5_xijj0I1",
   "metadata": {
    "id": "6wH5_xijj0I1"
   },
   "outputs": [],
   "source": [
    "#Funcion verificacion\n",
    "def array_verificacion(array):\n",
    "  if (type(array) != np.ndarray) or (array.ndim != 1) :   #Verificar si es tipo array y de 1 dimension\n",
    "    return False\n",
    "  else :\n",
    "    return True"
   ]
  },
  {
   "cell_type": "code",
   "execution_count": 3,
   "id": "jECqKBrlj4Wc",
   "metadata": {
    "id": "jECqKBrlj4Wc"
   },
   "outputs": [],
   "source": [
    "#Funcion resumen estadistico\n",
    "def resumen_estadistico(x):\n",
    "    print('\\033[1m' + 'RESUMEN ESTADÍSTICO BÁSICO DE LOS DATOS'+ '\\033[0m')\n",
    "    print('La media es: ',np.mean(x))\n",
    "    print('La mediana es',np.median(x))\n",
    "    print('La desviación estandar: ',round(np.std(x),2))\n",
    "    print('La varianza es: ', np.var(x))\n",
    "    print('El rango es: ', np.ptp(x))\n",
    "    print('El valor mínimo es: ', np.amin(x))\n",
    "    print('El valor máximo es: ', np.amax(x))"
   ]
  },
  {
   "cell_type": "markdown",
   "id": "705eb8b6-5474-4158-825f-5f616319cc31",
   "metadata": {
    "tags": []
   },
   "source": [
    "#### Probando el programa con un array de 2 dimensiones"
   ]
  },
  {
   "cell_type": "code",
   "execution_count": 4,
   "id": "Np4llP-DkAxY",
   "metadata": {
    "colab": {
     "base_uri": "https://localhost:8080/"
    },
    "id": "Np4llP-DkAxY",
    "outputId": "10c23936-139c-48da-d061-694ae32a26de"
   },
   "outputs": [
    {
     "name": "stdout",
     "output_type": "stream",
     "text": [
      "El objeto debe ser de tipo array y de una dimension\n"
     ]
    }
   ],
   "source": [
    "\n",
    "\n",
    "array2D= np.array([[1, 2, 3], [4, 5, 6]])\n",
    "\n",
    "#Programa \n",
    "\n",
    "if array_verificacion(array2D):\n",
    "  resumen_estadistico(array2D)\n",
    "else:\n",
    "  print('El objeto debe ser de tipo array y de una dimension')"
   ]
  },
  {
   "cell_type": "markdown",
   "id": "89c43cb2-2be4-468b-aeed-936a870e30bd",
   "metadata": {
    "tags": []
   },
   "source": [
    "#### Probando el programa con un array de 1D"
   ]
  },
  {
   "cell_type": "code",
   "execution_count": 5,
   "id": "772f1750",
   "metadata": {
    "colab": {
     "base_uri": "https://localhost:8080/"
    },
    "id": "772f1750",
    "outputId": "2e16df3b-7d68-4dd3-fd95-3919f753ec48"
   },
   "outputs": [
    {
     "name": "stdout",
     "output_type": "stream",
     "text": [
      "\u001b[1mRESUMEN ESTADÍSTICO BÁSICO DE LOS DATOS\u001b[0m\n",
      "La media es:  52.45\n",
      "La mediana es 57.0\n",
      "La desviación estandar:  31.02\n",
      "La varianza es:  961.9475\n",
      "El rango es:  96\n",
      "El valor mínimo es:  2\n",
      "El valor máximo es:  98\n"
     ]
    }
   ],
   "source": [
    "#Creación de array random 1 dimensión con valores hasta el 100\n",
    "array_random=rd.randint(100,size=(20))\n",
    "array_random\n",
    "\n",
    "#Programa\n",
    "\n",
    "if array_verificacion(array_random):\n",
    "  resumen_estadistico(array_random)\n",
    "else:\n",
    "  print('El objeto debe ser de tipo array y de una dimension')"
   ]
  },
  {
   "cell_type": "markdown",
   "id": "c4d4e21f",
   "metadata": {
    "id": "c4d4e21f"
   },
   "source": [
    "# Exercici 2\n",
    "Crea una funció que et generi un quadrat NxN de nombres aleatoris entre el 0 i el 100.\n"
   ]
  },
  {
   "cell_type": "code",
   "execution_count": 6,
   "id": "e5988c69",
   "metadata": {
    "colab": {
     "base_uri": "https://localhost:8080/"
    },
    "id": "e5988c69",
    "outputId": "85b171c7-149e-4d04-eb4b-e4aa9a65a472"
   },
   "outputs": [
    {
     "name": "stdin",
     "output_type": "stream",
     "text": [
      "Ingrese un numero del 0 al 20  6\n"
     ]
    },
    {
     "name": "stdout",
     "output_type": "stream",
     "text": [
      "[[51 81 83 17 75 20]\n",
      " [94 75 40 18 74 22]\n",
      " [88 40 65 32 65 62]\n",
      " [90  9  6 14 59 12]\n",
      " [37 81 55 78 75 27]\n",
      " [23 35 60 44 68 24]]\n"
     ]
    }
   ],
   "source": [
    "def  array_cuadrado(x):\n",
    "    array_NxN=rd.randint(101,size=(x,x))\n",
    "    print(array_NxN)\n",
    "    \n",
    "while True:\n",
    "    numero=input('Ingrese un numero del 0 al 20 ')\n",
    "    try:\n",
    "        numero= int(numero)\n",
    "        if numero < 0 or numero > 20:\n",
    "            print('El valor del número debe ser entre 0 y 10')\n",
    "        else : \n",
    "            array_cuadrado(numero)\n",
    "            break;\n",
    "    except ValueError:\n",
    "        print('\\033[1m' + 'Este no es numero' + '\\033[0m')\n",
    "            \n",
    "        \n"
   ]
  },
  {
   "cell_type": "markdown",
   "id": "2d7d32b0",
   "metadata": {
    "id": "2d7d32b0"
   },
   "source": [
    "# Exercici 3\n",
    "Crea una funció que donada una taula de dues dimensions (NxM), et calculi els totals per fila i els totals per columna."
   ]
  },
  {
   "cell_type": "code",
   "execution_count": 7,
   "id": "88fdb17a",
   "metadata": {
    "colab": {
     "base_uri": "https://localhost:8080/"
    },
    "id": "88fdb17a",
    "outputId": "38973237-0134-4205-8d07-698876abe74c"
   },
   "outputs": [
    {
     "name": "stdin",
     "output_type": "stream",
     "text": [
      "Ingrese el número de filas para la tabla  4\n",
      "Ingrese el número de columnas para la tabla  5\n",
      "Ingrese el valor máximo que desee que tengan los valores de la tabla  888\n"
     ]
    },
    {
     "name": "stdout",
     "output_type": "stream",
     "text": [
      "***************************************************************\n",
      "La siguiente tabla es de 4x5 dimensiones\n",
      "[[713 575 738 599 654]\n",
      " [443 808  43 566 800]\n",
      " [318 677 339  87 537]\n",
      " [295  57 123 314 386]]\n",
      "***************************************************************\n",
      "La suma de sus columnas es: \n",
      "[1769 2117 1243 1566 2377]\n",
      "***************************************************************\n",
      "La suma de sus filas es: \n",
      "***************************************************************\n",
      "[3279 2660 1958 1175]\n"
     ]
    }
   ],
   "source": [
    "#Función para verificar si un numero es mayor que 0 y si es de tipo Númerico.\n",
    "def verificar_numero(num):\n",
    "    esValorInvalido=True    \n",
    "    while esValorInvalido :\n",
    "        try:\n",
    "            num= int(num)\n",
    "            if num <= 0:\n",
    "                print('El valor del número debe ser mayor a 0')\n",
    "                return esValorInvalido\n",
    "            else : \n",
    "                esValorInvalido = False\n",
    "                return esValorInvalido\n",
    "                \n",
    "        except ValueError:\n",
    "            print('\\033[1m' + 'Este no es numero' + '\\033[0m')\n",
    "            return esValorInvalido\n",
    "            \n",
    "#Función para crear la tabla        \n",
    "def array_NxM(x,y,z):\n",
    "    arrayNxM = rd.randint(z,size=(x,y))\n",
    "    print('***************************************************************')\n",
    "    print('La siguiente tabla es de '+str(x)+'x'+str(y)+' dimensiones')\n",
    "    print(arrayNxM)\n",
    "    print('***************************************************************')\n",
    "    print('La suma de sus columnas es: ')\n",
    "    print(np.sum(arrayNxM,axis=0))\n",
    "    print('***************************************************************')\n",
    "    print('La suma de sus filas es: ')\n",
    "    print('***************************************************************')\n",
    "    print(np.sum(arrayNxM,axis=1))\n",
    "\n",
    "#INGRESO DE DATOS\n",
    "\n",
    "filas=input('Ingrese el número de filas para la tabla ')\n",
    "\n",
    "while verificar_numero(filas) :\n",
    "        filas=input('Ingrese el número de filas para la tabla ')\n",
    "    \n",
    "columnas=input('Ingrese el número de columnas para la tabla ')\n",
    "\n",
    "while verificar_numero(columnas) :\n",
    "        columnas=input('Ingrese el número de columnas para la tabla ')\n",
    "    \n",
    "valorMaximo=input('Ingrese el valor máximo que desee que tengan los valores de la tabla ')\n",
    "\n",
    "while verificar_numero(valorMaximo) :\n",
    "        valorMaximo=input('Ingrese el valor máximo que desee que tengan los valores de la tabla ')     \n",
    "        \n",
    "        \n",
    "array_NxM(int(filas),int(columnas),int(valorMaximo))\n",
    "\n",
    "\n",
    "    \n",
    "\n",
    "    "
   ]
  },
  {
   "cell_type": "markdown",
   "id": "1d30f222",
   "metadata": {
    "id": "1d30f222"
   },
   "source": [
    "# Exercici 4\n",
    "Implementa manualment una funció que calculi el coeficient de correlació. Informa-te'n sobre els seus usos i interpretació."
   ]
  },
  {
   "attachments": {
    "81a03507-3d2d-499e-b9b3-4ededd824540.png": {
     "image/png": "[encoded data removed]"
    }
   },
   "cell_type": "markdown",
   "id": "9cba4e0e",
   "metadata": {
    "id": "9cba4e0e"
   },
   "source": [
    "Una formula para encontrar el valor del coeficiente de correlacion de pearson es dividir:  \n",
    "En el numerador: Covarianza   \n",
    "Denominador: multiplicación de la desviación típica de cada conjunto de valores.  \n",
    "> El valor del coeficiente esta limiado a [-1,1]. Siendo 1 o -1 la máxima relación entre las dos variables y el signo indica que tipo de relación tienen. Por ejemplo, si es positivo indica que a mayor valor de una variable la otra también aumentara. Por el contrario, si el coeficiente es Negativo, a mayor valor de una variable la otra disminuira. \n",
    "\n",
    ">![image.png](attachment:81a03507-3d2d-499e-b9b3-4ededd824540.png)"
   ]
  },
  {
   "cell_type": "code",
   "execution_count": 8,
   "id": "9d39fa3e",
   "metadata": {
    "colab": {
     "base_uri": "https://localhost:8080/"
    },
    "id": "9d39fa3e",
    "outputId": "021370f1-6db5-44b4-a298-676c81c4afe6"
   },
   "outputs": [
    {
     "name": "stdout",
     "output_type": "stream",
     "text": [
      "[84 20 21 58 71 12 74 74 44 25]\n",
      "[767 121 540  78 185 262  41 356 830 721]\n"
     ]
    }
   ],
   "source": [
    "#Se crean dos arrays aleatorios de tamaño 10 cada uno y avlos maximos de 88 y 888\n",
    "array_X = rd.randint(88,size=(10))\n",
    "array_Y = rd.randint(888,size=(10))\n",
    "print(array_X)\n",
    "print(array_Y)"
   ]
  },
  {
   "cell_type": "markdown",
   "id": "eb74dd48-d097-4a62-bc0b-bad719ff66c7",
   "metadata": {
    "tags": []
   },
   "source": [
    "#### Creación de la función"
   ]
  },
  {
   "cell_type": "code",
   "execution_count": null,
   "id": "b04a953c-02f9-426c-b139-a35f3ef0631b",
   "metadata": {
    "id": "zwX6YddVllp7"
   },
   "outputs": [],
   "source": [
    "def Coef_corr_manual(arrayX, arrayY) :  \n",
    "  #Encontramos las medias\n",
    "  arrayX_mean=np.mean(arrayX)\n",
    "  arrayY_mean=np.mean(arrayY)\n",
    "\n",
    "  #Se encuentra la covarianza\n",
    "  arrayXY_mean= np.mean(arrayX*arrayY)            #Se encuentra la media de la multiplicacion del array X * array Y\n",
    "  multiplicacion_medias= arrayX_mean*arrayY_mean  #Se multiplican las medias\n",
    "  covarianza= arrayXY_mean-multiplicacion_medias\n",
    "\n",
    "  #Se encuentra la desviacion típica de forma manual\n",
    "  desv_arrayX= np.sqrt(np.mean(arrayX*arrayX)-arrayX_mean*arrayX_mean) #desviacion típica array X\n",
    "  desv_arrayY= np.sqrt(np.mean(arrayY*arrayY)-arrayY_mean*arrayY_mean) #desviacion típica array Y\n",
    "\n",
    "  # Coefienciente de correlacion\n",
    "  Coef_Pearson= covarianza / (desv_arrayX*desv_arrayY)\n",
    "  print('El coficiente de correlación de pearson es de: ', str(round(Coef_Pearson,6)))"
   ]
  },
  {
   "cell_type": "code",
   "execution_count": 10,
   "id": "x0AmjESrmSYD",
   "metadata": {
    "colab": {
     "base_uri": "https://localhost:8080/"
    },
    "id": "x0AmjESrmSYD",
    "outputId": "8a33ff3d-d64f-4435-ac3e-f737ccf9e664"
   },
   "outputs": [
    {
     "name": "stdout",
     "output_type": "stream",
     "text": [
      "El coficiente de correlación de pearson es de:  -0.074703\n"
     ]
    }
   ],
   "source": [
    "#Función del coeficiente de correlación manual: \n",
    "\n",
    "Coef_corr_manual(array_X,array_Y)"
   ]
  },
  {
   "cell_type": "code",
   "execution_count": 11,
   "id": "2a9eadf2",
   "metadata": {
    "colab": {
     "base_uri": "https://localhost:8080/"
    },
    "id": "2a9eadf2",
    "outputId": "006626da-ece5-49b9-d1e9-dd8fd59b55ea"
   },
   "outputs": [
    {
     "data": {
      "text/plain": [
       "array([[ 1.        , -0.07470282],\n",
       "       [-0.07470282,  1.        ]])"
      ]
     },
     "execution_count": 11,
     "metadata": {},
     "output_type": "execute_result"
    }
   ],
   "source": [
    "#Función que tiene Numpy en su librería para el cálculo del coeficiente de correlación de Pearson: \n",
    "\n",
    "np.corrcoef(array_X,array_Y)"
   ]
  },
  {
   "cell_type": "markdown",
   "id": "ae62110c",
   "metadata": {
    "id": "ae62110c"
   },
   "source": [
    "## Conclusiones:\n",
    "\n",
    "> El resultado del coeficiente de correlación calculado tanto de forma manual y mediante la librería de Numpy es el mismo. \n",
    "\n",
    "> El resultado ha sido de -0.0747, indica una nula correlación negativa, lo cual era de esperarse al crear los dos Arrays de forma  aleatoria."
   ]
  },
  {
   "cell_type": "code",
   "execution_count": null,
   "id": "ec55b5fd-0be6-413f-ae72-13c916d0e57e",
   "metadata": {},
   "outputs": [],
   "source": []
  }
 ],
 "metadata": {
  "colab": {
   "provenance": []
  },
  "kernelspec": {
   "display_name": "Python 3 (ipykernel)",
   "language": "python",
   "name": "python3"
  },
  "language_info": {
   "codemirror_mode": {
    "name": "ipython",
    "version": 3
   },
   "file_extension": ".py",
   "mimetype": "text/x-python",
   "name": "python",
   "nbconvert_exporter": "python",
   "pygments_lexer": "ipython3",
   "version": "3.11.2"
  }
 },
 "nbformat": 4,
 "nbformat_minor": 5
}
